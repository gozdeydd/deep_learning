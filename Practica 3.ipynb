{
 "cells": [
  {
   "cell_type": "markdown",
   "metadata": {},
   "source": [
    "### Practica 3\n",
    "Usando el dataset CIFAR 100:\n",
    "\n",
    "\n",
    "    -> Implementar una red convolucional con las optimizaciones vistas para obtener el mejor score posible.\n",
    "\n",
    "Autor : Gozde Yazganoglu\n",
    "\n",
    "Resumen\n",
    "\n",
    "\n",
    "En este notebook vamos a ver las posibles optimizaciones que podemos hacer para que los modelos aprendan más rápido y sean más robustos.\n",
    "Vamos a ver:\n",
    "\n",
    "- Small Model\n",
    "- CallBacks\n",
    "- L2 regularización\n",
    "- Dropout\n",
    "- Data Augmentation\n",
    "- Batch Normalization\n",
    "\n",
    "Utilizaremos el dataset CIFAR 100 para comparar todas las pruebas y ver su eficacia"
   ]
  },
  {
   "cell_type": "markdown",
   "metadata": {},
   "source": [
    "### 1. Importacion de Librerías\n",
    "\n",
    "Primero importamos los librerias necessarias por el notebook."
   ]
  },
  {
   "cell_type": "code",
   "execution_count": 1,
   "metadata": {},
   "outputs": [
    {
     "name": "stderr",
     "output_type": "stream",
     "text": [
      "2023-02-08 13:15:05.204713: I tensorflow/core/platform/cpu_feature_guard.cc:193] This TensorFlow binary is optimized with oneAPI Deep Neural Network Library (oneDNN) to use the following CPU instructions in performance-critical operations:  SSE4.1 SSE4.2 AVX AVX2 AVX_VNNI FMA\n",
      "To enable them in other operations, rebuild TensorFlow with the appropriate compiler flags.\n"
     ]
    }
   ],
   "source": [
    "import matplotlib.pyplot as plt\n",
    "import numpy as np\n",
    "\n",
    "from tensorflow.keras import layers, Input, regularizers \n",
    "from tensorflow.keras.models import Model\n",
    "from tensorflow.keras.optimizers import SGD, Adam\n",
    "\n",
    "from tensorflow.keras.losses import SparseCategoricalCrossentropy, MSE, MAE\n",
    "import tensorflow as tf\n",
    "from aux_func import show_history, r2_keras\n",
    "from tensorflow.keras.layers import Conv2D, MaxPooling2D, Dense, Flatten, BatchNormalization\n",
    "from tensorflow.keras.callbacks import EarlyStopping\n",
    "from time import time\n",
    "from tensorflow.keras.layers import Dropout\n"
   ]
  },
  {
   "cell_type": "markdown",
   "metadata": {},
   "source": [
    "### 2. Importación de data set y sus etiquetas\n",
    "\n",
    "Importamos el dataset y ajustamos sus etiquetas."
   ]
  },
  {
   "cell_type": "code",
   "execution_count": 2,
   "metadata": {},
   "outputs": [],
   "source": [
    "from tensorflow.keras.datasets import cifar100\n",
    "\n",
    "(X_train, y_train), (X_validation, y_validation) = cifar100.load_data()\n",
    "X_train = X_train/255\n",
    "X_validation = X_validation/255"
   ]
  },
  {
   "cell_type": "code",
   "execution_count": 3,
   "metadata": {},
   "outputs": [
    {
     "name": "stdout",
     "output_type": "stream",
     "text": [
      "Número de elementos en el dataset =  60000\n"
     ]
    },
    {
     "data": {
      "image/png": "[encoded data removed]",
      "text/plain": [
       "<Figure size 640x480 with 1 Axes>"
      ]
     },
     "metadata": {},
     "output_type": "display_data"
    }
   ],
   "source": [
    "\n",
    "labels = ['apple', 'aquarium_fish', 'baby', 'bear', 'beaver', 'bed', 'bee', 'beetle', 'bicycle', 'bottle', 'bowl',\n",
    "          'boy', 'bridge', 'bus', 'butterfly', 'camel', 'can', 'castle', 'caterpillar', 'cattle', 'chair',\n",
    "          'chimpanzee', 'clock', 'cloud', 'cockroach', 'couch', 'crab', 'crocodile', 'cup', 'dinosaur',\n",
    "          'dolphin', 'elephant', 'flatfish', 'forest', 'fox', 'girl', 'hamster', 'house', 'kangaroo', 'keyboard',\n",
    "          'lamp', 'lawn_mower', 'leopard', 'lion', 'lizard', 'lobster', 'man', 'maple_tree', 'motorcycle',\n",
    "          'mountain', 'mouse', 'mushroom', 'oak_tree', 'orange', 'orchid', 'otter', 'palm_tree', 'pear',\n",
    "          'pickup_truck', 'pine_tree', 'plain', 'plate', 'poppy', 'porcupine', 'possum', 'rabbit', 'raccoon',\n",
    "          'ray', 'road', 'rocket', 'rose', 'sea', 'seal', 'shark', 'shrew', 'skunk', 'skyscraper', 'snail',\n",
    "          'snake', 'spider', 'squirrel', 'streetcar', 'sunflower', 'sweet_pepper', 'table', 'tank', 'telephone',\n",
    "          'television', 'tiger', 'tractor', 'train', 'trout', 'tulip', 'turtle', 'wardrobe', 'whale', 'willow_tree',\n",
    "          'wolf', 'woman', 'worm']\n",
    "\n",
    "print('Número de elementos en el dataset = ',X_train.shape[0]+X_validation.shape[0])\n",
    "plt.title(labels[int(y_train[62])])\n",
    "plt.imshow(X_train[62])\n",
    "plt.show()"
   ]
  },
  {
   "cell_type": "markdown",
   "metadata": {},
   "source": [
    "### 3. Modelo Base\n",
    "\n",
    "Primero fijamos un modelo base para entrenar el dataset."
   ]
  },
  {
   "cell_type": "code",
   "execution_count": null,
   "metadata": {},
   "outputs": [
    {
     "name": "stdout",
     "output_type": "stream",
     "text": [
      "Model: \"model\"\n",
      "_________________________________________________________________\n",
      " Layer (type)                Output Shape              Param #   \n",
      "=================================================================\n",
      " input_1 (InputLayer)        [(None, 32, 32, 3)]       0         \n",
      "                                                                 \n",
      " conv2d (Conv2D)             (None, 32, 32, 60)        1680      \n",
      "                                                                 \n",
      " max_pooling2d (MaxPooling2D  (None, 16, 16, 60)       0         \n",
      " )                                                               \n",
      "                                                                 \n",
      " conv2d_1 (Conv2D)           (None, 16, 16, 60)        32460     \n",
      "                                                                 \n",
      " max_pooling2d_1 (MaxPooling  (None, 8, 8, 60)         0         \n",
      " 2D)                                                             \n",
      "                                                                 \n",
      " conv2d_2 (Conv2D)           (None, 8, 8, 60)          32460     \n",
      "                                                                 \n",
      " max_pooling2d_2 (MaxPooling  (None, 4, 4, 60)         0         \n",
      " 2D)                                                             \n",
      "                                                                 \n",
      " flatten (Flatten)           (None, 960)               0         \n",
      "                                                                 \n",
      " dense (Dense)               (None, 1000)              961000    \n",
      "                                                                 \n",
      " dense_1 (Dense)             (None, 1000)              1001000   \n",
      "                                                                 \n",
      " dense_2 (Dense)             (None, 100)               100100    \n",
      "                                                                 \n",
      "=================================================================\n",
      "Total params: 2,128,700\n",
      "Trainable params: 2,128,700\n",
      "Non-trainable params: 0\n",
      "_________________________________________________________________\n"
     ]
    },
    {
     "name": "stderr",
     "output_type": "stream",
     "text": [
      "2023-02-08 13:15:31.654274: I tensorflow/core/platform/cpu_feature_guard.cc:193] This TensorFlow binary is optimized with oneAPI Deep Neural Network Library (oneDNN) to use the following CPU instructions in performance-critical operations:  SSE4.1 SSE4.2 AVX AVX2 AVX_VNNI FMA\n",
      "To enable them in other operations, rebuild TensorFlow with the appropriate compiler flags.\n",
      "2023-02-08 13:15:31.655066: I tensorflow/core/common_runtime/process_util.cc:146] Creating new thread pool with default inter op setting: 2. Tune using inter_op_parallelism_threads for best performance.\n"
     ]
    },
    {
     "name": "stdout",
     "output_type": "stream",
     "text": [
      "None\n",
      "Epoch 1/30\n",
      "1000/1000 [==============================] - 48s 47ms/step - loss: 3.7611 - accuracy: 0.1172 - val_loss: 3.2148 - val_accuracy: 0.2125\n",
      "Epoch 2/30\n",
      "1000/1000 [==============================] - 47s 47ms/step - loss: 2.9577 - accuracy: 0.2603 - val_loss: 2.7576 - val_accuracy: 0.3002\n",
      "Epoch 3/30\n",
      "1000/1000 [==============================] - 47s 47ms/step - loss: 2.5343 - accuracy: 0.3442 - val_loss: 2.5744 - val_accuracy: 0.3469\n",
      "Epoch 4/30\n",
      "1000/1000 [==============================] - 47s 47ms/step - loss: 2.2073 - accuracy: 0.4144 - val_loss: 2.4291 - val_accuracy: 0.3865\n",
      "Epoch 5/30\n",
      "1000/1000 [==============================] - 47s 47ms/step - loss: 1.9066 - accuracy: 0.4812 - val_loss: 2.4111 - val_accuracy: 0.3945\n",
      "Epoch 6/30\n",
      "1000/1000 [==============================] - 47s 47ms/step - loss: 1.6175 - accuracy: 0.5479 - val_loss: 2.4307 - val_accuracy: 0.4039\n",
      "Epoch 7/30\n",
      "1000/1000 [==============================] - 47s 47ms/step - loss: 1.3145 - accuracy: 0.6240 - val_loss: 2.5216 - val_accuracy: 0.4061\n",
      "Epoch 8/30\n",
      "1000/1000 [==============================] - 47s 47ms/step - loss: 1.0312 - accuracy: 0.6946 - val_loss: 2.8188 - val_accuracy: 0.3975\n",
      "Epoch 9/30\n",
      "1000/1000 [==============================] - 48s 48ms/step - loss: 0.7674 - accuracy: 0.7671 - val_loss: 3.2285 - val_accuracy: 0.3920\n",
      "Epoch 10/30\n",
      "1000/1000 [==============================] - 48s 48ms/step - loss: 0.5819 - accuracy: 0.8191 - val_loss: 3.6511 - val_accuracy: 0.3917\n",
      "Epoch 11/30\n",
      "1000/1000 [==============================] - 48s 48ms/step - loss: 0.4391 - accuracy: 0.8607 - val_loss: 4.0507 - val_accuracy: 0.3906\n",
      "Epoch 12/30\n",
      "1000/1000 [==============================] - 48s 48ms/step - loss: 0.3601 - accuracy: 0.8852 - val_loss: 4.3573 - val_accuracy: 0.3868\n",
      "Epoch 13/30\n",
      "1000/1000 [==============================] - 48s 48ms/step - loss: 0.3171 - accuracy: 0.8985 - val_loss: 4.8099 - val_accuracy: 0.3820\n",
      "Epoch 14/30\n",
      "1000/1000 [==============================] - 47s 47ms/step - loss: 0.2795 - accuracy: 0.9115 - val_loss: 4.9534 - val_accuracy: 0.3666\n",
      "Epoch 15/30\n",
      "1000/1000 [==============================] - 48s 48ms/step - loss: 0.2715 - accuracy: 0.9130 - val_loss: 5.1345 - val_accuracy: 0.3849\n",
      "Epoch 16/30\n",
      "1000/1000 [==============================] - 48s 48ms/step - loss: 0.2542 - accuracy: 0.9208 - val_loss: 5.5192 - val_accuracy: 0.3878\n",
      "Epoch 17/30\n",
      "1000/1000 [==============================] - 47s 47ms/step - loss: 0.2408 - accuracy: 0.9256 - val_loss: 5.7359 - val_accuracy: 0.3772\n",
      "Epoch 18/30\n",
      "1000/1000 [==============================] - 48s 48ms/step - loss: 0.2311 - accuracy: 0.9280 - val_loss: 5.8083 - val_accuracy: 0.3808\n",
      "Epoch 19/30\n",
      "1000/1000 [==============================] - 48s 48ms/step - loss: 0.2137 - accuracy: 0.9345 - val_loss: 5.9691 - val_accuracy: 0.3780\n",
      "Epoch 20/30\n",
      "1000/1000 [==============================] - 48s 48ms/step - loss: 0.2153 - accuracy: 0.9349 - val_loss: 6.0236 - val_accuracy: 0.3785\n",
      "Epoch 21/30\n",
      "1000/1000 [==============================] - 48s 48ms/step - loss: 0.2258 - accuracy: 0.9301 - val_loss: 6.3273 - val_accuracy: 0.3721\n",
      "Epoch 22/30\n",
      "1000/1000 [==============================] - 48s 48ms/step - loss: 0.2084 - accuracy: 0.9373 - val_loss: 6.2718 - val_accuracy: 0.3737\n",
      "Epoch 23/30\n",
      "1000/1000 [==============================] - 48s 48ms/step - loss: 0.2003 - accuracy: 0.9405 - val_loss: 6.5064 - val_accuracy: 0.3681\n",
      "Epoch 24/30\n",
      "1000/1000 [==============================] - 48s 48ms/step - loss: 0.1976 - accuracy: 0.9396 - val_loss: 6.8036 - val_accuracy: 0.3692\n",
      "Epoch 25/30\n",
      " 296/1000 [=======>......................] - ETA: 31s - loss: 0.1497 - accuracy: 0.9540"
     ]
    }
   ],
   "source": [
    " #capas de la red\n",
    "input = Input(shape=(32,32,3))\n",
    "layer = input\n",
    "layer = Conv2D(filters=60, kernel_size=3, strides=1, padding='same', activation='relu')(layer)\n",
    "layer = MaxPooling2D((2, 2))(layer)\n",
    "layer = Conv2D(filters=60, kernel_size=3, strides=1, padding='same', activation='relu')(layer)\n",
    "layer = MaxPooling2D((2, 2))(layer)\n",
    "layer = Conv2D(filters=60, kernel_size=3, strides=1, padding='same', activation='relu')(layer)\n",
    "layer = MaxPooling2D((2, 2))(layer)\n",
    "layer = Flatten()(layer)\n",
    "layer = Dense(units=1000, activation='relu')(layer)\n",
    "layer = Dense(units=1000, activation='relu')(layer)\n",
    "output = Dense(units=100, activation='softmax')(layer)\n",
    "\n",
    "# creamos el modelo\n",
    "model = Model(inputs=input, outputs=output)\n",
    "print(model.summary())\n",
    "\n",
    "# optimizador\n",
    "optimizer = Adam(learning_rate=0.001)\n",
    "\n",
    "# función loss\n",
    "loss = SparseCategoricalCrossentropy(from_logits=False)\n",
    "\n",
    "# métrica\n",
    "metrics = ['accuracy']\n",
    "\n",
    "# compilamos el modelo\n",
    "model.compile(optimizer=optimizer, loss=loss, metrics=metrics)\n",
    "\n",
    "history = model.fit(x=X_train, y=y_train, batch_size=50, epochs=30,\n",
    "                    validation_data=(X_validation, y_validation))"
   ]
  },
  {
   "cell_type": "markdown",
   "metadata": {},
   "source": [
    "Este modelo no esta muy grande pero sigue teniendo grande problema de overfitting vs alto accuracy en data de training. "
   ]
  },
  {
   "cell_type": "code",
   "execution_count": null,
   "metadata": {},
   "outputs": [],
   "source": [
    "show_history(history)"
   ]
  },
  {
   "cell_type": "markdown",
   "metadata": {},
   "source": [
    "Como vemos en resultados, accuracy estaba maximizado y perdida esta minimizado en set de training pero en sets de test conseguimos el aravez. eso enseña que tenemos overfiting y eso empieza alrededor epoca 2-3. Ahora intentaremos mejorar este modelo utilizando methodos siguentes"
   ]
  },
  {
   "cell_type": "code",
   "execution_count": null,
   "metadata": {},
   "outputs": [],
   "source": [
    "print(\"Evaluate on validation data\")\n",
    "results = model.evaluate(X_validation, y_validation, batch_size=128)\n",
    "print('val loss:',results[0], 'val acc:', results[1])"
   ]
  },
  {
   "cell_type": "markdown",
   "metadata": {},
   "source": [
    "### Small model\n",
    "Probamos un modelo más pequeño para encontrar si sigue teniendo la misma problema."
   ]
  },
  {
   "cell_type": "code",
   "execution_count": null,
   "metadata": {
    "scrolled": false
   },
   "outputs": [],
   "source": [
    "# capas de la red\n",
    "\n",
    "input = Input(shape=(32,32,3))\n",
    "layer = input\n",
    "layer = Conv2D(filters=25, kernel_size=3, strides=1, padding='same', activation='relu')(layer)\n",
    "layer = MaxPooling2D((2, 2))(layer)\n",
    "layer = Conv2D(filters=50, kernel_size=3, strides=1, padding='same', activation='relu')(layer)\n",
    "layer = MaxPooling2D((2, 2))(layer)\n",
    "layer = Conv2D(filters=10, kernel_size=3, strides=1, padding='same', activation='relu')(layer)\n",
    "layer = MaxPooling2D((2, 2))(layer)\n",
    "layer = Flatten()(layer)\n",
    "layer = Dense(units=200, activation='relu')(layer)\n",
    "layer = Dense(units=100, activation='relu')(layer)\n",
    "output = Dense(units=100, activation='softmax')(layer)\n",
    "\n",
    "\n",
    "# creamos el modelo\n",
    "model = Model(inputs=input, outputs=output)\n",
    "print(model.summary())\n",
    "\n",
    "# optimizador\n",
    "optimizer = Adam(learning_rate=0.001)\n",
    "\n",
    "# función loss\n",
    "loss = SparseCategoricalCrossentropy(from_logits=False)\n",
    "\n",
    "# métrica\n",
    "metrics = ['accuracy']\n",
    "\n",
    "# compilamos el modelo\n",
    "model.compile(optimizer=optimizer, loss=loss, metrics=metrics)\n",
    "\n",
    "history = model.fit(x=X_train, y=y_train, batch_size=50, epochs=30,\n",
    "                    validation_data=(X_validation, y_validation))"
   ]
  },
  {
   "cell_type": "code",
   "execution_count": null,
   "metadata": {},
   "outputs": [],
   "source": [
    "show_history(history)"
   ]
  },
  {
   "cell_type": "code",
   "execution_count": null,
   "metadata": {},
   "outputs": [],
   "source": [
    "print(\"Evaluate on validation data\")\n",
    "results = model.evaluate(X_validation, y_validation, batch_size=128)\n",
    "print('val loss:',results[0], 'val acc:', results[1])"
   ]
  },
  {
   "cell_type": "markdown",
   "metadata": {},
   "source": [
    "Con este modelo no conseguimos un buen resultado, tampoco no evitamos overfitting. El mas validacion score conseguimos es 32%. "
   ]
  },
  {
   "cell_type": "markdown",
   "metadata": {},
   "source": [
    "### Early Stopping\n",
    "\n",
    "Ahora probamos cuantos epochas puede ser mas eficiente.  "
   ]
  },
  {
   "cell_type": "code",
   "execution_count": null,
   "metadata": {
    "scrolled": false
   },
   "outputs": [],
   "source": [
    "\n",
    "# capas de la red\n",
    "input = Input(shape=(32,32,3))\n",
    "layer = input\n",
    "layer = Conv2D(filters=20, kernel_size=3, strides=1, padding='same', activation='relu')(layer)\n",
    "layer = MaxPooling2D((2, 2))(layer)\n",
    "layer = Conv2D(filters=40, kernel_size=3, strides=1, padding='same', activation='relu')(layer)\n",
    "layer = MaxPooling2D((2, 2))(layer)\n",
    "layer = Conv2D(filters=60, kernel_size=3, strides=1, padding='same', activation='relu')(layer)\n",
    "layer = MaxPooling2D((2, 2))(layer)\n",
    "layer = Flatten()(layer)\n",
    "layer = Dense(units=1000, activation='relu')(layer)\n",
    "output = Dense(units=100, activation='softmax')(layer)\n",
    "\n",
    "# creamos el modelo\n",
    "model = Model(inputs=input, outputs=output)\n",
    "print(model.summary())\n",
    "\n",
    "# optimizador\n",
    "optimizer = Adam(learning_rate=0.001)\n",
    "\n",
    "# función loss\n",
    "loss = SparseCategoricalCrossentropy(from_logits=False)\n",
    "\n",
    "# métrica\n",
    "metrics = ['accuracy']\n",
    "\n",
    "# compilamos el modelo\n",
    "model.compile(optimizer=optimizer, loss=loss, metrics=metrics)\n",
    "\n",
    "# Podemos decidir que score queremos monitorizar, cuantas epochs esperar después del mejor score y si queremos que nos devuelva el mejor modelo.\n",
    "early_stopping = EarlyStopping(monitor='val_accuracy', patience=10, mode='max', restore_best_weights=True)\n",
    "\n",
    "history = model.fit(x=X_train, y=y_train, batch_size=50, epochs=30,\n",
    "                    validation_data=(X_validation, y_validation), callbacks=[early_stopping])\n",
    "\n"
   ]
  },
  {
   "cell_type": "code",
   "execution_count": null,
   "metadata": {},
   "outputs": [],
   "source": [
    "show_history(history)"
   ]
  },
  {
   "cell_type": "code",
   "execution_count": null,
   "metadata": {},
   "outputs": [],
   "source": [
    "print(\"Evaluate on validation data\")\n",
    "results = model.evaluate(X_validation, y_validation, batch_size=128)\n",
    "print('val loss:',results[0], 'val acc:', results[1])"
   ]
  },
  {
   "cell_type": "markdown",
   "metadata": {},
   "source": [
    "Modelo para en epoca 30. con este combinacion de neuronas. Podemos llagar hasta 38% accuracy en data set de validacion."
   ]
  },
  {
   "cell_type": "markdown",
   "metadata": {},
   "source": [
    "### Regularización L2\n",
    "Vamos mejorando el modelo con un poco mas grande y regularizacion L2."
   ]
  },
  {
   "cell_type": "code",
   "execution_count": null,
   "metadata": {},
   "outputs": [],
   "source": [
    "from tensorflow.keras.regularizers import l2\n",
    "\n",
    "# capas de la red\n",
    "input = Input(shape=(32,32,3))\n",
    "layer = input\n",
    "\n",
    "layer = Conv2D(filters=30, kernel_size=3, strides=1, padding='same', activation='relu', kernel_regularizer=l2(0.001))(layer)\n",
    "layer = MaxPooling2D((2, 2))(layer)\n",
    "layer = Conv2D(filters=30, kernel_size=3, strides=1, padding='same', activation='relu', kernel_regularizer=l2(0.001))(layer)\n",
    "layer = MaxPooling2D((2, 2))(layer)\n",
    "layer = Conv2D(filters=30, kernel_size=3, strides=1, padding='same', activation='relu', kernel_regularizer=l2(0.001))(layer)\n",
    "layer = MaxPooling2D((2, 2))(layer)\n",
    "layer = Flatten()(layer)\n",
    "layer = Dense(units=100, activation='relu', kernel_regularizer=l2(0.001))(layer)\n",
    "layer = Dense(units=100, activation='relu', kernel_regularizer=l2(0.001))(layer)\n",
    "output = Dense(units=100, activation='softmax')(layer)\n",
    "\n",
    "# creamos el modelo\n",
    "model = Model(inputs=input, outputs=output)\n",
    "print(model.summary())\n",
    "\n",
    "# optimizador\n",
    "optimizer = Adam(learning_rate=0.001)\n",
    "\n",
    "# función loss\n",
    "loss = SparseCategoricalCrossentropy(from_logits=False)\n",
    "\n",
    "# métrica\n",
    "metrics = ['accuracy']\n",
    "\n",
    "# compilamos el modelo\n",
    "model.compile(optimizer=optimizer, loss=loss, metrics=metrics)\n",
    "\n",
    "history = model.fit(x=X_train, y=y_train, batch_size=50, epochs=30,\n",
    "                    validation_data=(X_validation, y_validation))"
   ]
  },
  {
   "cell_type": "code",
   "execution_count": null,
   "metadata": {},
   "outputs": [],
   "source": [
    "show_history(history)"
   ]
  },
  {
   "cell_type": "code",
   "execution_count": null,
   "metadata": {},
   "outputs": [],
   "source": [
    "print(\"Evaluate on validation data\")\n",
    "results = model.evaluate(X_validation, y_validation, batch_size=128)\n",
    "print('val loss:',results[0], 'val acc:', results[1])"
   ]
  },
  {
   "cell_type": "markdown",
   "metadata": {},
   "source": []
  },
  {
   "cell_type": "code",
   "execution_count": null,
   "metadata": {},
   "outputs": [],
   "source": [
    "show_history(history)"
   ]
  },
  {
   "cell_type": "markdown",
   "metadata": {},
   "source": [
    "### Dropout\n",
    "Podemos introducir en distintas partes de la red las capas dropout para apagar de manera aleatoria las neuronas y así impedir que se produzca overfiting.\n",
    "Cuanto mayor es el ratio de dropout mayor será la regularización.\n",
    "No es necesario introducir las capas dropout en todas las capas de la red."
   ]
  },
  {
   "cell_type": "code",
   "execution_count": null,
   "metadata": {
    "scrolled": false
   },
   "outputs": [],
   "source": [
    "from tensorflow.keras.layers import Dropout\n",
    "\n",
    "# capas de la red\n",
    "input = Input(shape=(32,32,3))\n",
    "layer = input\n",
    "layer = Conv2D(filters=20, kernel_size=3, strides=1, padding='same', activation='relu')(layer)\n",
    "layer = MaxPooling2D((2, 2))(layer)\n",
    "layer = Conv2D(filters=40, kernel_size=3, strides=1, padding='same', activation='relu')(layer)\n",
    "layer = MaxPooling2D((2, 2))(layer)\n",
    "layer = Conv2D(filters=60, kernel_size=3, strides=1, padding='same', activation='relu')(layer)\n",
    "layer = MaxPooling2D((2, 2))(layer)\n",
    "layer = Flatten()(layer)\n",
    "layer = Dense(units=1000, activation='relu')(layer)\n",
    "\n",
    "layer = Dropout(0.7)(layer)\n",
    "output = Dense(units=100, activation='softmax')(layer)\n",
    "\n",
    "# creamos el modelo\n",
    "model = Model(inputs=input, outputs=output)\n",
    "print(model.summary())\n",
    "\n",
    "# optimizador\n",
    "optimizer = Adam(learning_rate=0.001)\n",
    "\n",
    "# función loss\n",
    "loss = SparseCategoricalCrossentropy(from_logits=False)\n",
    "\n",
    "# métrica\n",
    "metrics = ['accuracy']\n",
    "\n",
    "# compilamos el modelo\n",
    "model.compile(optimizer=optimizer, loss=loss, metrics=metrics)\n",
    "\n",
    "history = model.fit(x=X_train, y=y_train, batch_size=50, epochs=30,\n",
    "                    validation_data=(X_validation, y_validation))"
   ]
  },
  {
   "cell_type": "code",
   "execution_count": null,
   "metadata": {},
   "outputs": [],
   "source": [
    "show_history(history)"
   ]
  },
  {
   "cell_type": "code",
   "execution_count": null,
   "metadata": {},
   "outputs": [],
   "source": [
    "print(\"Evaluate on validation data\")\n",
    "results = model.evaluate(X_validation, y_validation, batch_size=128)\n",
    "print('val loss:',results[0], 'val acc:', results[1])"
   ]
  },
  {
   "cell_type": "code",
   "execution_count": null,
   "metadata": {},
   "outputs": [],
   "source": []
  },
  {
   "cell_type": "markdown",
   "metadata": {},
   "source": [
    "### Data Augmentation\n",
    "El data augmentation es uno de los mejores métodos de regularización.\n",
    "Consigue aumentar virtualmente el dataset haciendo que el modelo sea muy robusto y que su performance en validation sea muy buena.\n",
    "Con ello conseguimos reducir el overfiting y además que el modelo sea robusto frente a pequeñas perturbaciones en las imágenes.\n",
    "Vamos a implementar un data augmentation que se aplicará durante el entrenamiento, para ello usaremos la clase tensorflow.data.Dataset.\n",
    "Las funciones que vamos a usar son propias de tensorflow, con ello aseguramos un máximo rendimiento y fiabilidad del entrenamiento.\n",
    "También se puede implementar usando generadores o con un generador de keras."
   ]
  },
  {
   "cell_type": "code",
   "execution_count": 4,
   "metadata": {},
   "outputs": [
    {
     "name": "stderr",
     "output_type": "stream",
     "text": [
      "2022-12-11 22:36:17.766566: I tensorflow/core/platform/cpu_feature_guard.cc:193] This TensorFlow binary is optimized with oneAPI Deep Neural Network Library (oneDNN) to use the following CPU instructions in performance-critical operations:  SSE4.1 SSE4.2 AVX AVX2 FMA\n",
      "To enable them in other operations, rebuild TensorFlow with the appropriate compiler flags.\n",
      "2022-12-11 22:36:17.767127: I tensorflow/core/common_runtime/process_util.cc:146] Creating new thread pool with default inter op setting: 2. Tune using inter_op_parallelism_threads for best performance.\n"
     ]
    },
    {
     "data": {
      "image/png": "[encoded data removed]",
      "text/plain": [
       "<Figure size 640x480 with 1 Axes>"
      ]
     },
     "metadata": {},
     "output_type": "display_data"
    },
    {
     "data": {
      "image/png": "[encoded data removed]",
      "text/plain": [
       "<Figure size 640x480 with 1 Axes>"
      ]
     },
     "metadata": {},
     "output_type": "display_data"
    },
    {
     "name": "stderr",
     "output_type": "stream",
     "text": [
      "Clipping input data to the valid range for imshow with RGB data ([0..1] for floats or [0..255] for integers).\n"
     ]
    },
    {
     "data": {
      "image/png": "[encoded data removed]",
      "text/plain": [
       "<Figure size 640x480 with 1 Axes>"
      ]
     },
     "metadata": {},
     "output_type": "display_data"
    },
    {
     "data": {
      "image/png": "[encoded data removed]",
      "text/plain": [
       "<Figure size 640x480 with 1 Axes>"
      ]
     },
     "metadata": {},
     "output_type": "display_data"
    },
    {
     "name": "stderr",
     "output_type": "stream",
     "text": [
      "Clipping input data to the valid range for imshow with RGB data ([0..1] for floats or [0..255] for integers).\n"
     ]
    },
    {
     "data": {
      "image/png": "[encoded data removed]",
      "text/plain": [
       "<Figure size 640x480 with 1 Axes>"
      ]
     },
     "metadata": {},
     "output_type": "display_data"
    },
    {
     "name": "stderr",
     "output_type": "stream",
     "text": [
      "Clipping input data to the valid range for imshow with RGB data ([0..1] for floats or [0..255] for integers).\n"
     ]
    },
    {
     "data": {
      "image/png": "[encoded data removed]",
      "text/plain": [
       "<Figure size 640x480 with 1 Axes>"
      ]
     },
     "metadata": {},
     "output_type": "display_data"
    }
   ],
   "source": [
    "from tensorflow.data import Dataset\n",
    "\n",
    "# Creamos un Dataset utilizando numpys\n",
    "train_ds = Dataset.from_tensor_slices((X_train, y_train))\n",
    "val_ds = Dataset.from_tensor_slices((X_validation, y_validation))\n",
    "\n",
    "# Seleccionamos el batch_size que\n",
    "batch_size = 30\n",
    "\n",
    "# Creamos una función que perturbará de forma aleatoria las imágenes.\n",
    "# Las etiquetas quedan invariantes\n",
    "def processing_data(image, label):\n",
    "    \n",
    "    image = tf.image.random_flip_left_right(image)\n",
    "    image = tf.image.random_brightness(image, 0.2)\n",
    "    image = tf.image.random_contrast(image, 0.8, 1.2)\n",
    "    image = tf.image.random_saturation(image, 0.8, 1.2)\n",
    "    image = tf.image.random_hue(image, 0.05)\n",
    "    image = tf.image.resize(image, (40,40), method='nearest',antialias=False)\n",
    "    image = tf.image.random_crop(image, (32,32,3))\n",
    "    return image, label\n",
    "\n",
    "\n",
    "# Esta función hará las modificaciones pertinentes al dataset para poder usarlo durante el entrenamiento\n",
    "def data_aug(ds: Dataset, shuffle=False, augment=False):\n",
    "    # Hacemos que el dataset se repita de manera indefinida\n",
    "    ds = ds.repeat() #burda dataset kendini tekrar ediyor\n",
    "\n",
    "    # Aleatorizamos el dataset usando un buffer de 5000\n",
    "    if shuffle:\n",
    "        ds = ds.shuffle(5000)\n",
    "\n",
    "    # Aplicamos las transformaciones pertinentes\n",
    "    if augment:\n",
    "        ds = ds.map(processing_data,num_parallel_calls=4)\n",
    "\n",
    "    # Hacemos que el dataset este formado por batches\n",
    "    ds = ds.batch(batch_size)\n",
    "\n",
    "    # Devolvemos el dataset precargándolo\n",
    "    return ds.prefetch(buffer_size=4)\n",
    "\n",
    "# Aplicamos la función data_aug a nuestro dataset\n",
    "train_ds = data_aug(train_ds, shuffle=True, augment=True)\n",
    "# Al dataset de validación no le aplicamos perturbaciones\n",
    "val_ds = data_aug(val_ds)\n",
    "\n",
    "\n",
    "# Visualizemos unos ejemplos de como la función processing_data modifica las imágenes\n",
    "plt.title(labels[int(y_train[62])])\n",
    "plt.imshow(X_train[62])\n",
    "plt.show()\n",
    "for _ in range(5):\n",
    "    image_mod = np.array(processing_data(X_train[62], 0)[0])\n",
    "    plt.imshow(image_mod)\n",
    "    plt.show()\n"
   ]
  },
  {
   "cell_type": "code",
   "execution_count": null,
   "metadata": {
    "scrolled": false
   },
   "outputs": [],
   "source": [
    "# capas de la red\n",
    "input = Input(shape=(32,32,3))\n",
    "layer = input\n",
    "layer = Conv2D(filters=20, kernel_size=3, strides=1, padding='same', activation='relu')(layer)\n",
    "layer = MaxPooling2D((2, 2))(layer)\n",
    "layer = Conv2D(filters=40, kernel_size=3, strides=1, padding='same', activation='relu')(layer)\n",
    "layer = MaxPooling2D((2, 2))(layer)\n",
    "layer = Conv2D(filters=60, kernel_size=3, strides=1, padding='same', activation='relu')(layer)\n",
    "layer = MaxPooling2D((2, 2))(layer)\n",
    "layer = Flatten()(layer)\n",
    "layer = Dense(units=1000, activation='relu')(layer)\n",
    "output = Dense(units=100, activation='softmax')(layer)\n",
    "\n",
    "# creamos el modelo\n",
    "model = Model(inputs=input, outputs=output)\n",
    "print(model.summary())\n",
    "\n",
    "# optimizador\n",
    "optimizer = Adam(learning_rate=0.001)\n",
    "\n",
    "# función loss\n",
    "loss = SparseCategoricalCrossentropy(from_logits=False)\n",
    "\n",
    "# métrica\n",
    "metrics = ['accuracy']\n",
    "\n",
    "# compilamos el modelo\n",
    "model.compile(optimizer=optimizer, loss=loss, metrics=metrics)\n",
    "\n",
    "# Usamos los dataset creados con tensorflow.data.Dataset para entrenar nuesto modelo\n",
    "history = model.fit(train_ds, batch_size=50, epochs=50,\n",
    "                    steps_per_epoch=1000, validation_data=val_ds, validation_steps=200)"
   ]
  },
  {
   "cell_type": "code",
   "execution_count": null,
   "metadata": {},
   "outputs": [],
   "source": [
    "show_history(history)"
   ]
  },
  {
   "cell_type": "markdown",
   "metadata": {},
   "source": [
    "Claramente se ha reducido el overfiting y hemos obtenido unos buenos resultados durante el entrenamiento.\n",
    "Hemos obtenido un score de 78.4%"
   ]
  },
  {
   "cell_type": "code",
   "execution_count": null,
   "metadata": {},
   "outputs": [],
   "source": [
    "print(\"Evaluate on validation data\")\n",
    "results = model.evaluate(X_validation, y_validation, batch_size=128)\n",
    "print('val loss:',results[0], 'val acc:', results[1])"
   ]
  },
  {
   "cell_type": "markdown",
   "metadata": {},
   "source": [
    "### Batch size correcto\n",
    "Con el Batch size modificamos:\n",
    "- La calidad de aprendizaje\n",
    "- La velocidad de aprendizaje\n",
    "- La duración del aprendizaje\n",
    "\n",
    "\n",
    "Con recursos tenemos, no podemos un model que puede tener o un modelo para compara con otros methodos de optimizaciones. Pero podemos ver relacion dentro batch size y socres.\n"
   ]
  },
  {
   "cell_type": "code",
   "execution_count": null,
   "metadata": {},
   "outputs": [],
   "source": [
    "scores_bs = []\n",
    "epochs_train_bs = []\n"
   ]
  },
  {
   "cell_type": "code",
   "execution_count": null,
   "metadata": {
    "scrolled": true
   },
   "outputs": [],
   "source": [
    "for bs in range(5,30):\n",
    "    # capas de la red\n",
    "    input = Input(shape=(32,32,3))\n",
    "    layer = input\n",
    "    layer = Conv2D(filters=20, kernel_size=3, strides=1, padding='same', activation='relu')(layer)\n",
    "    layer = MaxPooling2D((2, 2))(layer)\n",
    "    layer = Conv2D(filters=40, kernel_size=3, strides=1, padding='same', activation='relu')(layer)\n",
    "    layer = MaxPooling2D((2, 2))(layer)\n",
    "    layer = Conv2D(filters=60, kernel_size=3, strides=1, padding='same', activation='relu')(layer)\n",
    "    layer = MaxPooling2D((2, 2))(layer)\n",
    "    layer = Flatten()(layer)\n",
    "    layer = Dense(units=1000, activation='relu')(layer)\n",
    "    output = Dense(units=100, activation='softmax')(layer)\n",
    "\n",
    "    # creamos el modelo\n",
    "    model = Model(inputs=input, outputs=output)\n",
    "    print(model.summary())\n",
    "\n",
    "    # optimizador\n",
    "    optimizer = Adam(learning_rate=0.001)\n",
    "\n",
    "    # función loss\n",
    "    loss = SparseCategoricalCrossentropy(from_logits=False)\n",
    "\n",
    "    # métrica\n",
    "    metrics = ['accuracy']\n",
    "\n",
    "    # compilamos el modelo\n",
    "    model.compile(optimizer=optimizer, loss=loss, metrics=metrics)\n",
    "\n",
    "    early_stopping = EarlyStopping(monitor='val_accuracy', patience=3, mode='max', restore_best_weights=True)\n",
    "\n",
    "    history = model.fit(x=X_train, y=y_train, batch_size=bs, epochs=10,\n",
    "                    validation_data=(X_validation, y_validation), callbacks=[early_stopping])\n",
    "    scores_bs.append(model.evaluate(X_validation, y_validation, batch_size=128)[1])\n",
    "    epochs_train_bs.append(len(history.history['loss']))\n"
   ]
  },
  {
   "cell_type": "code",
   "execution_count": null,
   "metadata": {},
   "outputs": [],
   "source": [
    "plt.plot(scores_bs)\n",
    "plt.title('Select correct Batch Size')\n",
    "plt.ylabel('Accuracy value (%)')\n",
    "plt.xlabel('Batch Size')\n",
    "plt.show()"
   ]
  },
  {
   "cell_type": "markdown",
   "metadata": {},
   "source": [
    "Con batches que probamos con modelo muy muy basico llegamos a conclusion que batch size 14 es mejor. Seguro que con mas neuronas, puede ser diferente. "
   ]
  },
  {
   "cell_type": "markdown",
   "metadata": {},
   "source": [
    "### Batch Normalization\n",
    "Podemos añadir capas de Batch Normalization en cualquier parte de la red excepto en la última.\n",
    "Con ello conseguimos que en todo momento los inputs de las layers estén en los rangos deseados.\n",
    "Veamos un ejemplo de red profunda sin BN"
   ]
  },
  {
   "cell_type": "markdown",
   "metadata": {},
   "source": [
    "Añadimos batch normalizacion a todas siguentes capas de Maxpooling2D"
   ]
  },
  {
   "cell_type": "code",
   "execution_count": null,
   "metadata": {
    "scrolled": false
   },
   "outputs": [],
   "source": [
    "# capas de la red\n",
    "input = Input(shape=(32,32,3))\n",
    "layer = input\n",
    "layer = Conv2D(filters=20, kernel_size=3, strides=1, padding='same', activation='relu')(layer)\n",
    "layer = MaxPooling2D((2, 2))(layer)\n",
    "layer = BatchNormalization()(layer)\n",
    "layer = Conv2D(filters=40, kernel_size=3, strides=1, padding='same', activation='relu')(layer)\n",
    "layer = MaxPooling2D((2, 2))(layer)\n",
    "layer = BatchNormalization()(layer)\n",
    "layer = Conv2D(filters=60, kernel_size=3, strides=1, padding='same', activation='relu')(layer)\n",
    "layer = MaxPooling2D((2, 2))(layer)\n",
    "layer = BatchNormalization()(layer)\n",
    "layer = Flatten()(layer)\n",
    "layer = BatchNormalization()(layer)\n",
    "layer = Dense(units=1000, activation='relu')(layer)\n",
    "output = Dense(units=100, activation='softmax')(layer)\n",
    "\n",
    "# creamos el modelo\n",
    "model = Model(inputs=input, outputs=output)\n",
    "print(model.summary())\n",
    "\n",
    "# optimizador\n",
    "optimizer = Adam(learning_rate=0.001)\n",
    "\n",
    "# función loss\n",
    "loss = SparseCategoricalCrossentropy(from_logits=False)\n",
    "\n",
    "# métrica\n",
    "metrics = ['accuracy']\n",
    "\n",
    "# compilamos el modelo\n",
    "model.compile(optimizer=optimizer, loss=loss, metrics=metrics)\n",
    "\n",
    "history = model.fit(x=X_train, y=y_train, batch_size=15, epochs=30,\n",
    "                    validation_data=(X_validation, y_validation))"
   ]
  },
  {
   "cell_type": "code",
   "execution_count": null,
   "metadata": {},
   "outputs": [],
   "source": [
    "show_history(history)"
   ]
  },
  {
   "cell_type": "code",
   "execution_count": null,
   "metadata": {},
   "outputs": [],
   "source": [
    "print(\"Evaluate on validation data\")\n",
    "results = model.evaluate(X_validation, y_validation, batch_size=128)\n",
    "print('val loss:',results[0], 'val acc:', results[1])"
   ]
  },
  {
   "cell_type": "markdown",
   "metadata": {},
   "source": [
    "En este caso el modelo se ha entrenado correctamente, obteniendo un score de 38%."
   ]
  },
  {
   "cell_type": "markdown",
   "metadata": {},
   "source": [
    "### Combinación de varias optimizaciones\n",
    "Vamos a probar a utilizar varias de las optimizaciones vistas"
   ]
  },
  {
   "cell_type": "code",
   "execution_count": 6,
   "metadata": {
    "scrolled": false
   },
   "outputs": [
    {
     "name": "stdout",
     "output_type": "stream",
     "text": [
      "Model: \"model\"\n",
      "_________________________________________________________________\n",
      " Layer (type)                Output Shape              Param #   \n",
      "=================================================================\n",
      " input_2 (InputLayer)        [(None, 32, 32, 3)]       0         \n",
      "                                                                 \n",
      " conv2d (Conv2D)             (None, 32, 32, 20)        560       \n",
      "                                                                 \n",
      " max_pooling2d (MaxPooling2D  (None, 16, 16, 20)       0         \n",
      " )                                                               \n",
      "                                                                 \n",
      " batch_normalization (BatchN  (None, 16, 16, 20)       80        \n",
      " ormalization)                                                   \n",
      "                                                                 \n",
      " conv2d_1 (Conv2D)           (None, 16, 16, 40)        7240      \n",
      "                                                                 \n",
      " max_pooling2d_1 (MaxPooling  (None, 8, 8, 40)         0         \n",
      " 2D)                                                             \n",
      "                                                                 \n",
      " batch_normalization_1 (Batc  (None, 8, 8, 40)         160       \n",
      " hNormalization)                                                 \n",
      "                                                                 \n",
      " conv2d_2 (Conv2D)           (None, 8, 8, 60)          21660     \n",
      "                                                                 \n",
      " max_pooling2d_2 (MaxPooling  (None, 4, 4, 60)         0         \n",
      " 2D)                                                             \n",
      "                                                                 \n",
      " conv2d_3 (Conv2D)           (None, 4, 4, 20)          10820     \n",
      "                                                                 \n",
      " max_pooling2d_3 (MaxPooling  (None, 2, 2, 20)         0         \n",
      " 2D)                                                             \n",
      "                                                                 \n",
      " batch_normalization_2 (Batc  (None, 2, 2, 20)         80        \n",
      " hNormalization)                                                 \n",
      "                                                                 \n",
      " flatten (Flatten)           (None, 80)                0         \n",
      "                                                                 \n",
      " dense (Dense)               (None, 1000)              81000     \n",
      "                                                                 \n",
      " dropout (Dropout)           (None, 1000)              0         \n",
      "                                                                 \n",
      " dense_1 (Dense)             (None, 100)               100100    \n",
      "                                                                 \n",
      "=================================================================\n",
      "Total params: 221,700\n",
      "Trainable params: 221,540\n",
      "Non-trainable params: 160\n",
      "_________________________________________________________________\n",
      "None\n",
      "Epoch 1/20\n",
      "1000/1000 [==============================] - 193s 192ms/step - loss: 4.2644 - accuracy: 0.0720 - val_loss: 3.7635 - val_accuracy: 0.1348\n",
      "Epoch 2/20\n",
      "1000/1000 [==============================] - 206s 206ms/step - loss: 3.8202 - accuracy: 0.1315 - val_loss: 3.4034 - val_accuracy: 0.2092\n",
      "Epoch 3/20\n",
      "1000/1000 [==============================] - 168s 168ms/step - loss: 3.5963 - accuracy: 0.1639 - val_loss: 3.4040 - val_accuracy: 0.2025\n",
      "Epoch 4/20\n",
      "1000/1000 [==============================] - 208s 208ms/step - loss: 3.4593 - accuracy: 0.1884 - val_loss: 3.1153 - val_accuracy: 0.2533\n",
      "Epoch 5/20\n",
      "1000/1000 [==============================] - 203s 203ms/step - loss: 3.3598 - accuracy: 0.2069 - val_loss: 3.0418 - val_accuracy: 0.2690\n",
      "Epoch 6/20\n",
      "1000/1000 [==============================] - 202s 202ms/step - loss: 3.2726 - accuracy: 0.2285 - val_loss: 2.9892 - val_accuracy: 0.2793\n",
      "Epoch 7/20\n",
      "1000/1000 [==============================] - 199s 199ms/step - loss: 3.2197 - accuracy: 0.2338 - val_loss: 3.1789 - val_accuracy: 0.2510\n",
      "Epoch 8/20\n",
      "1000/1000 [==============================] - 159s 159ms/step - loss: 3.1424 - accuracy: 0.2494 - val_loss: 2.9356 - val_accuracy: 0.2943\n",
      "Epoch 9/20\n",
      "1000/1000 [==============================] - 139s 139ms/step - loss: 3.1109 - accuracy: 0.2578 - val_loss: 2.8525 - val_accuracy: 0.3140\n",
      "Epoch 10/20\n",
      "1000/1000 [==============================] - 142s 142ms/step - loss: 3.0707 - accuracy: 0.2680 - val_loss: 2.8948 - val_accuracy: 0.3102\n",
      "Epoch 11/20\n",
      "1000/1000 [==============================] - 136s 136ms/step - loss: 3.0309 - accuracy: 0.2727 - val_loss: 2.6701 - val_accuracy: 0.3475\n",
      "Epoch 12/20\n",
      "1000/1000 [==============================] - 161s 161ms/step - loss: 3.0114 - accuracy: 0.2807 - val_loss: 2.7801 - val_accuracy: 0.3338\n",
      "Epoch 13/20\n",
      "1000/1000 [==============================] - 210s 210ms/step - loss: 2.9793 - accuracy: 0.2891 - val_loss: 2.6990 - val_accuracy: 0.3502\n",
      "Epoch 14/20\n",
      "1000/1000 [==============================] - 204s 204ms/step - loss: 2.9492 - accuracy: 0.2980 - val_loss: 2.6860 - val_accuracy: 0.3517\n",
      "Epoch 15/20\n",
      "1000/1000 [==============================] - 207s 207ms/step - loss: 2.9185 - accuracy: 0.2951 - val_loss: 2.7246 - val_accuracy: 0.3518\n",
      "Epoch 16/20\n",
      "1000/1000 [==============================] - 214s 214ms/step - loss: 2.9176 - accuracy: 0.2980 - val_loss: 2.6304 - val_accuracy: 0.3697\n",
      "Epoch 17/20\n",
      "1000/1000 [==============================] - 219s 219ms/step - loss: 2.8990 - accuracy: 0.3068 - val_loss: 2.5803 - val_accuracy: 0.3730\n",
      "Epoch 18/20\n",
      "1000/1000 [==============================] - 220s 220ms/step - loss: 2.8685 - accuracy: 0.3113 - val_loss: 2.8085 - val_accuracy: 0.3295\n",
      "Epoch 19/20\n",
      "1000/1000 [==============================] - 220s 220ms/step - loss: 2.8572 - accuracy: 0.3141 - val_loss: 2.6508 - val_accuracy: 0.3647\n",
      "Epoch 20/20\n",
      "1000/1000 [==============================] - 184s 184ms/step - loss: 2.8445 - accuracy: 0.3195 - val_loss: 2.6146 - val_accuracy: 0.3753\n"
     ]
    }
   ],
   "source": [
    "from tensorflow.keras.regularizers import l2\n",
    "# capas de la red\n",
    "input = Input(shape=(32,32,3))\n",
    "layer = input\n",
    "layer = Conv2D(filters=20, kernel_size=3, strides=1, padding='same', activation='relu', kernel_regularizer=l2(0.001))(layer)\n",
    "layer = MaxPooling2D((2, 2))(layer)\n",
    "layer = BatchNormalization()(layer)\n",
    "layer = Conv2D(filters=40, kernel_size=3, strides=1, padding='same', activation='relu', kernel_regularizer=l2(0.001))(layer)\n",
    "layer = MaxPooling2D((2, 2))(layer)\n",
    "layer = BatchNormalization()(layer)\n",
    "layer = Conv2D(filters=60, kernel_size=3, strides=1, padding='same', activation='relu', kernel_regularizer=l2(0.001))(layer)\n",
    "layer = MaxPooling2D((2, 2))(layer)\n",
    "layer = Conv2D(filters=20, kernel_size=3, strides=1, padding='same', activation='relu', kernel_regularizer=l2(0.001))(layer)\n",
    "layer = MaxPooling2D((2, 2))(layer)\n",
    "layer = BatchNormalization()(layer)\n",
    "layer = Flatten()(layer)\n",
    "layer = Dense(units=1000, activation='relu')(layer)\n",
    "layer = Dropout(0.7)(layer)\n",
    "output = Dense(units=100, activation='softmax')(layer)\n",
    "\n",
    "# creamos el modelo\n",
    "model = Model(inputs=input, outputs=output)\n",
    "print(model.summary())\n",
    "\n",
    "# optimizador\n",
    "optimizer = Adam(learning_rate=0.001)\n",
    "\n",
    "# función loss\n",
    "loss = SparseCategoricalCrossentropy(from_logits=False)\n",
    "\n",
    "# métrica\n",
    "metrics = ['accuracy']\n",
    "\n",
    "# compilamos el modelo\n",
    "model.compile(optimizer=optimizer, loss=loss, metrics=metrics)\n",
    "\n",
    "early_stopping = EarlyStopping(monitor='val_accuracy', patience=10, mode='max', restore_best_weights=True)\n",
    "\n",
    "history = model.fit(train_ds, batch_size=20, epochs=20,\n",
    "                    steps_per_epoch=1000, validation_data=val_ds, validation_steps=200, callbacks=[early_stopping])"
   ]
  },
  {
   "cell_type": "code",
   "execution_count": 7,
   "metadata": {},
   "outputs": [
    {
     "data": {
      "image/png": "[encoded data removed]",
      "text/plain": [
       "<Figure size 640x480 with 1 Axes>"
      ]
     },
     "metadata": {},
     "output_type": "display_data"
    },
    {
     "data": {
      "image/png": "[encoded data removed]",
      "text/plain": [
       "<Figure size 640x480 with 1 Axes>"
      ]
     },
     "metadata": {},
     "output_type": "display_data"
    }
   ],
   "source": [
    "show_history(history)"
   ]
  },
  {
   "cell_type": "code",
   "execution_count": 8,
   "metadata": {},
   "outputs": [
    {
     "name": "stdout",
     "output_type": "stream",
     "text": [
      "Evaluate on validation data\n",
      "79/79 [==============================] - 4s 49ms/step - loss: 2.6234 - accuracy: 0.3729\n",
      "val loss: 2.623398780822754 val acc: 0.37290000915527344\n"
     ]
    }
   ],
   "source": [
    "print(\"Evaluate on validation data\")\n",
    "results = model.evaluate(X_validation, y_validation, batch_size=128)\n",
    "print('val loss:',results[0], 'val acc:', results[1])"
   ]
  },
  {
   "cell_type": "markdown",
   "metadata": {},
   "source": [
    "Combinacion de los variables no funciona bien 37% es accuracy llegada\n",
    "\n",
    "Con nuestro model funciona mejor data augmentation y drop out hasta 44% pero utilizando juntos no nos da mejores resultados.\n",
    "\n"
   ]
  }
 ],
 "metadata": {
  "kernelspec": {
   "display_name": "neuroenv",
   "language": "python",
   "name": "neuroenv"
  },
  "language_info": {
   "codemirror_mode": {
    "name": "ipython",
    "version": 3
   },
   "file_extension": ".py",
   "mimetype": "text/x-python",
   "name": "python",
   "nbconvert_exporter": "python",
   "pygments_lexer": "ipython3",
   "version": "3.10.8"
  }
 },
 "nbformat": 4,
 "nbformat_minor": 1
}
